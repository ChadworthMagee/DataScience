{
  "nbformat": 4,
  "nbformat_minor": 0,
  "metadata": {
    "colab": {
      "provenance": [],
      "authorship_tag": "ABX9TyOX4yVJrPGTATQKksJm8sDp",
      "include_colab_link": true
    },
    "kernelspec": {
      "name": "python3",
      "display_name": "Python 3"
    },
    "language_info": {
      "name": "python"
    }
  },
  "cells": [
    {
      "cell_type": "markdown",
      "metadata": {
        "id": "view-in-github",
        "colab_type": "text"
      },
      "source": [
        "<a href=\"https://colab.research.google.com/github/ChadworthMagee/DataScience/blob/master/Combine_all_seq_files_in_one_folder_and_RE_in_the_seq.ipynb\" target=\"_parent\"><img src=\"https://colab.research.google.com/assets/colab-badge.svg\" alt=\"Open In Colab\"/></a>"
      ]
    },
    {
      "cell_type": "code",
      "execution_count": null,
      "metadata": {
        "colab": {
          "base_uri": "https://localhost:8080/"
        },
        "id": "zejbPLffZB1E",
        "outputId": "95b3d223-dd89-4e08-eeba-134389ce8a11"
      },
      "outputs": [
        {
          "output_type": "stream",
          "name": "stdout",
          "text": [
            "Drive already mounted at /content/drive; to attempt to forcibly remount, call drive.mount(\"/content/drive\", force_remount=True).\n",
            "['Copy of 7A07259-80.seq', '7A07259-80.seq', '7A07259-24.seq', '7A07259-49.seq', '7A07259-48.seq', '7A07259-97.seq', '7A07259-74.seq', '7A07259-2.seq', '7A07259-64.seq', '7A07259-67.seq', '7A07259-88.seq', '7A07259-63.seq', '7A07259-9.seq', '7A07259-90.seq', '7A07259-18.seq', '7A07259-76.seq', '7A07259-13.seq', '7A07259-68.seq', '7A07259-71.seq', '7A07259-37.seq', '7A07259-40.seq', '7A07259-22.seq', '7A07259-39.seq', '7A07259-5.seq', '7A07259-66.seq', '7A07259-98.seq', '7A07259-41.seq', '7A07259-95.seq', '7A07259-81.seq', '7A07259-54.seq', '7A07259-84.seq', '7A07259-33.seq', '7A07259-27.seq', '7A07259-26.seq', '7A07259-32.seq', '7A07259-21.seq', '7A07259-42.seq', '7A07259-44.seq', '7A07259-52.seq', '7A07259-36.seq', '7A07259-73.seq', '7A07259-17.seq', '7A07259-38.seq', '7A07259-72.seq', '7A07259-86.seq', '7A07259-30.seq', '7A07259-3.seq', '7A07259-60.seq', '7A07259-35.seq', '7A07259-34.seq', '7A07259-7.seq', '7A07259-92.seq', '7A07259-50.seq', '7A07259-12.seq', '7A07259-99.seq', '7A07259-46.seq', '7A07259-59.seq', '7A07259-78.seq', '7A07259-53.seq', '7A07259-89.seq', '7A07259-85.seq', '7A07259-1.seq', '7A07259-75.seq', '7A07259-8.seq', '7A07259-58.seq', '7A07259-28.seq', '7A07259-55.seq', '7A07259-57.seq', '7A07259-51.seq', '7A07259-77.seq', '7A07259-6.seq', '7A07259-19.seq', '7A07259-29.seq', '7A07259-43.seq', '7A07259-94.seq', '7A07259-47.seq', '7A07259-83.seq', '7A07259-87.seq', '7A07259-69.seq', '7A07259-11.seq', '7A07259-25.seq', '7A07259-82.seq', '7A07259-23.seq', '7A07259-91.seq', '7A07259-61.seq', '7A07259-4.seq', '7A07259-45.seq', '7A07259-79.seq', '7A07259-65.seq', '7A07259-62.seq', '7A07259-70.seq', '7A07259-10.seq', '7A07259-56.seq', '7A07259-96.seq', '7A07259-93.seq', '7A07259-31.seq', '7A07259-14.seq', '7A07259-100.seq', '7A07259-16.seq', '7A07259-15.seq', '7A07259-20.seq']\n"
          ]
        }
      ],
      "source": [
        "# prompt: find all files in google drive under folder 7A07259 with file extenstion \"seq\", and make a list with all the files name only without the file path.\n",
        "\n",
        "import os\n",
        "from google.colab import drive\n",
        "drive.mount('/content/drive')\n",
        "\n",
        "file_list = []\n",
        "for root, dirs, files in os.walk('/content/drive/My Drive/Colab Notebooks/7A07259'):\n",
        "  for file in files:\n",
        "    if file.endswith('.seq'):\n",
        "      file_list.append(file)\n",
        "\n",
        "print(file_list)\n"
      ]
    },
    {
      "cell_type": "markdown",
      "source": [],
      "metadata": {
        "id": "tr2hmAuedeu8"
      }
    },
    {
      "cell_type": "code",
      "source": [
        "# prompt: Use previous list of file name,  open each file as text file and insert a first line at begin of the text which start with \">\" and the file name without file path in the same line.  Then save as a new file with extension \"fasta\" and close the file. The merge all the new files to one text file name \"AllFasta.fasta\"\n",
        "\n",
        "import os\n",
        "from google.colab import drive\n",
        "\n",
        "drive.mount('/content/drive')\n",
        "\n",
        "file_list = []\n",
        "for root, dirs, files in os.walk('/content/drive/My Drive/Colab Notebooks/7A07259'):\n",
        "  for file in files:\n",
        "    if file.endswith('.seq'):\n",
        "      file_list.append(os.path.join(root, file))  # Store full file paths\n",
        "\n",
        "print(file_list)\n",
        "\n",
        "with open('AllFasta.fasta', 'w') as outfile:\n",
        "  for filepath in file_list:\n",
        "    filename = os.path.basename(filepath)\n",
        "    filename_without_extension = os.path.splitext(filename)[0]\n",
        "    new_filename = filename_without_extension + '.fasta'\n",
        "    with open(filepath, 'r') as infile, open(new_filename, 'w') as newfile:\n",
        "      newfile.write('>' + filename_without_extension + '\\n')  # Insert first line\n",
        "      for line in infile:\n",
        "        newfile.write(line)\n",
        "\n",
        "    # Append the contents of the new file to AllFasta.fasta\n",
        "    with open(new_filename, 'r') as newfile:\n",
        "      outfile.write(newfile.read())\n"
      ],
      "metadata": {
        "colab": {
          "base_uri": "https://localhost:8080/"
        },
        "id": "ZSW3RhaBdaX8",
        "outputId": "8ce6107d-77ed-4a43-908e-5fbdf40489d8"
      },
      "execution_count": null,
      "outputs": [
        {
          "output_type": "stream",
          "name": "stdout",
          "text": [
            "Drive already mounted at /content/drive; to attempt to forcibly remount, call drive.mount(\"/content/drive\", force_remount=True).\n",
            "['/content/drive/My Drive/Colab Notebooks/7A07259/7A07259-52(LVG-MD48_46)/7A07259-52.seq', '/content/drive/My Drive/Colab Notebooks/7A07259/7A07259-21(LVG-MD35_41)/7A07259-21.seq', '/content/drive/My Drive/Colab Notebooks/7A07259/7A07259-32(LVG-MD42_4)/7A07259-32.seq', '/content/drive/My Drive/Colab Notebooks/7A07259/7A07259-73(LVG-MD49_4)/7A07259-73.seq', '/content/drive/My Drive/Colab Notebooks/7A07259/7A07259-44(LVG-MD42_17)/7A07259-44.seq', '/content/drive/My Drive/Colab Notebooks/7A07259/7A07259-36(LVG-MD42_68)/7A07259-36.seq', '/content/drive/My Drive/Colab Notebooks/7A07259/7A07259-42(LVG-MD42_20)/7A07259-42.seq', '/content/drive/My Drive/Colab Notebooks/7A07259/7A07259-17(LVG-MD34_76)/7A07259-17.seq', '/content/drive/My Drive/Colab Notebooks/7A07259/7A07259-27(LVG-MD39_260)/7A07259-27.seq', '/content/drive/My Drive/Colab Notebooks/7A07259/7A07259-26(LVG-MD39_58)/7A07259-26.seq', '/content/drive/My Drive/Colab Notebooks/7A07259/7A07259-66(LVG-MD48_55)/7A07259-66.seq', '/content/drive/My Drive/Colab Notebooks/7A07259/7A07259-81(LVG-MD50_36)/7A07259-81.seq', '/content/drive/My Drive/Colab Notebooks/7A07259/7A07259-98(LVG-MD52_127)/7A07259-98.seq', '/content/drive/My Drive/Colab Notebooks/7A07259/7A07259-54(LVG-MD48_4)/7A07259-54.seq', '/content/drive/My Drive/Colab Notebooks/7A07259/7A07259-84(LVG-MD50_6)/7A07259-84.seq', '/content/drive/My Drive/Colab Notebooks/7A07259/7A07259-5(LVG-MD16_48)/7A07259-5.seq', '/content/drive/My Drive/Colab Notebooks/7A07259/7A07259-33(LVG-MD42_8)/7A07259-33.seq', '/content/drive/My Drive/Colab Notebooks/7A07259/7A07259-95(LVG-MD51_20)/7A07259-95.seq', '/content/drive/My Drive/Colab Notebooks/7A07259/7A07259-39(LVG-MD42_1)/7A07259-39.seq', '/content/drive/My Drive/Colab Notebooks/7A07259/7A07259-41(LVG-MD42_18)/7A07259-41.seq', '/content/drive/My Drive/Colab Notebooks/7A07259/7A07259-71(LVG-MD49_2)/7A07259-71.seq', '/content/drive/My Drive/Colab Notebooks/7A07259/7A07259-40(LVG-MD42_2)/7A07259-40.seq', '/content/drive/My Drive/Colab Notebooks/7A07259/7A07259-22(LVG-MD35_22)/7A07259-22.seq', '/content/drive/My Drive/Colab Notebooks/7A07259/7A07259-13(LVG-MD17_4)/7A07259-13.seq', '/content/drive/My Drive/Colab Notebooks/7A07259/7A07259-18(LVG-MD34_37)/7A07259-18.seq', '/content/drive/My Drive/Colab Notebooks/7A07259/7A07259-76(LVG-MD49_13)/7A07259-76.seq', '/content/drive/My Drive/Colab Notebooks/7A07259/7A07259-37(LVG-MD42_0)/7A07259-37.seq', '/content/drive/My Drive/Colab Notebooks/7A07259/7A07259-90(LVG-MD51_7)/7A07259-90.seq', '/content/drive/My Drive/Colab Notebooks/7A07259/7A07259-68(LVG-MD48_31)/7A07259-68.seq', '/content/drive/My Drive/Colab Notebooks/7A07259/7A07259-9(LVG-MD17_24)/7A07259-9.seq', '/content/drive/My Drive/Colab Notebooks/7A07259/7A07259-49(LVG-MD48_6)/7A07259-49.seq', '/content/drive/My Drive/Colab Notebooks/7A07259/7A07259-97(LVG-MD51_16)/7A07259-97.seq', '/content/drive/My Drive/Colab Notebooks/7A07259/7A07259-2(LVG-MD16_31)/7A07259-2.seq', '/content/drive/My Drive/Colab Notebooks/7A07259/7A07259-64(LVG-MD48_42)/7A07259-64.seq', '/content/drive/My Drive/Colab Notebooks/7A07259/7A07259-48(LVG-MD46_23)/7A07259-48.seq', '/content/drive/My Drive/Colab Notebooks/7A07259/7A07259-74(LVG-MD49_8)/7A07259-74.seq', '/content/drive/My Drive/Colab Notebooks/7A07259/7A07259-63(LVG-MD48_24)/7A07259-63.seq', '/content/drive/My Drive/Colab Notebooks/7A07259/7A07259-24(LVG-MD37_309)/7A07259-24.seq', '/content/drive/My Drive/Colab Notebooks/7A07259/7A07259-88(LVG-MD50_1)/7A07259-88.seq', '/content/drive/My Drive/Colab Notebooks/7A07259/7A07259-67(LVG-MD48_52)/7A07259-67.seq', '/content/drive/My Drive/Colab Notebooks/7A07259/7A07259-96(LVG-MD51_1)/7A07259-96.seq', '/content/drive/My Drive/Colab Notebooks/7A07259/7A07259-93(LVG-MD51_22)/7A07259-93.seq', '/content/drive/My Drive/Colab Notebooks/7A07259/7A07259-15(LVG-MD28_56)/7A07259-15.seq', '/content/drive/My Drive/Colab Notebooks/7A07259/7A07259-16(LVG-MD28_46)/7A07259-16.seq', '/content/drive/My Drive/Colab Notebooks/7A07259/7A07259-56(LVG-MD48_75)/7A07259-56.seq', '/content/drive/My Drive/Colab Notebooks/7A07259/7A07259-31(LVG-MD42_13)/7A07259-31.seq', '/content/drive/My Drive/Colab Notebooks/7A07259/7A07259-20(LVG-MD35_39)/7A07259-20.seq', '/content/drive/My Drive/Colab Notebooks/7A07259/7A07259-100(LVG-MD52_78)/7A07259-100.seq', '/content/drive/My Drive/Colab Notebooks/7A07259/7A07259-80(LVG-MD50_16)/7A07259-80.seq', '/content/drive/My Drive/Colab Notebooks/7A07259/7A07259-14(LVG-MD17_28)/7A07259-14.seq', '/content/drive/My Drive/Colab Notebooks/7A07259/7A07259-65(LVG-MD48_185)/7A07259-65.seq', '/content/drive/My Drive/Colab Notebooks/7A07259/7A07259-23(LVG-MD35_20)/7A07259-23.seq', '/content/drive/My Drive/Colab Notebooks/7A07259/7A07259-4(LVG-MD16_68)/7A07259-4.seq', '/content/drive/My Drive/Colab Notebooks/7A07259/7A07259-79(LVG-MD50_15)/7A07259-79.seq', '/content/drive/My Drive/Colab Notebooks/7A07259/7A07259-70(LVG-MD49_25)/7A07259-70.seq', '/content/drive/My Drive/Colab Notebooks/7A07259/7A07259-45(LVG-MD45_11)/7A07259-45.seq', '/content/drive/My Drive/Colab Notebooks/7A07259/7A07259-62(LVG-MD48_201)/7A07259-62.seq', '/content/drive/My Drive/Colab Notebooks/7A07259/7A07259-91(LVG-MD51_31)/7A07259-91.seq', '/content/drive/My Drive/Colab Notebooks/7A07259/7A07259-10(LVG-MD17_170)/7A07259-10.seq', '/content/drive/My Drive/Colab Notebooks/7A07259/7A07259-61(LVG-MD48_0)/7A07259-61.seq', '/content/drive/My Drive/Colab Notebooks/7A07259/7A07259-43(LVG-MD42_11)/7A07259-43.seq', '/content/drive/My Drive/Colab Notebooks/7A07259/7A07259-25(LVG-MD37_83)/7A07259-25.seq', '/content/drive/My Drive/Colab Notebooks/7A07259/7A07259-29(LVG-MD39_4)/7A07259-29.seq', '/content/drive/My Drive/Colab Notebooks/7A07259/7A07259-47(LVG-MD45_3)/7A07259-47.seq', '/content/drive/My Drive/Colab Notebooks/7A07259/7A07259-94(LVG-MD51_4)/7A07259-94.seq', '/content/drive/My Drive/Colab Notebooks/7A07259/7A07259-87(LVG-MD50_3)/7A07259-87.seq', '/content/drive/My Drive/Colab Notebooks/7A07259/7A07259-82(LVG-MD50_87)/7A07259-82.seq', '/content/drive/My Drive/Colab Notebooks/7A07259/7A07259-11(LVG-MD17_110)/7A07259-11.seq', '/content/drive/My Drive/Colab Notebooks/7A07259/7A07259-69(LVG-MD48_34)/7A07259-69.seq', '/content/drive/My Drive/Colab Notebooks/7A07259/7A07259-83(LVG-MD50_10)/7A07259-83.seq', '/content/drive/My Drive/Colab Notebooks/7A07259/7A07259-6(LVG-MD16_204)/7A07259-6.seq', '/content/drive/My Drive/Colab Notebooks/7A07259/7A07259-75(LVG-MD49_1)/7A07259-75.seq', '/content/drive/My Drive/Colab Notebooks/7A07259/7A07259-57(LVG-MD48_38)/7A07259-57.seq', '/content/drive/My Drive/Colab Notebooks/7A07259/7A07259-55(LVG-MD48_15)/7A07259-55.seq', '/content/drive/My Drive/Colab Notebooks/7A07259/7A07259-51(LVG-MD48_69)/7A07259-51.seq', '/content/drive/My Drive/Colab Notebooks/7A07259/7A07259-8(LVG-MD16_44)/7A07259-8.seq', '/content/drive/My Drive/Colab Notebooks/7A07259/7A07259-58(LVG-MD48_77)/7A07259-58.seq', '/content/drive/My Drive/Colab Notebooks/7A07259/7A07259-19(LVG-MD34_14)/7A07259-19.seq', '/content/drive/My Drive/Colab Notebooks/7A07259/7A07259-28(LVG-MD39_55)/7A07259-28.seq', '/content/drive/My Drive/Colab Notebooks/7A07259/7A07259-77(LVG-MD50_14)/7A07259-77.seq', '/content/drive/My Drive/Colab Notebooks/7A07259/7A07259-1(LVG-MD16_27)/7A07259-1.seq', '/content/drive/My Drive/Colab Notebooks/7A07259/7A07259-50(LVG-MD48_63)/7A07259-50.seq', '/content/drive/My Drive/Colab Notebooks/7A07259/7A07259-59(LVG-MD48_11)/7A07259-59.seq', '/content/drive/My Drive/Colab Notebooks/7A07259/7A07259-46(LVG-MD45_2)/7A07259-46.seq', '/content/drive/My Drive/Colab Notebooks/7A07259/7A07259-99(LVG-MD52_62)/7A07259-99.seq', '/content/drive/My Drive/Colab Notebooks/7A07259/7A07259-78(LVG-MD50_8)/7A07259-78.seq', '/content/drive/My Drive/Colab Notebooks/7A07259/7A07259-53(LVG-MD48_337)/7A07259-53.seq', '/content/drive/My Drive/Colab Notebooks/7A07259/7A07259-85(LVG-MD50_12)/7A07259-85.seq', '/content/drive/My Drive/Colab Notebooks/7A07259/7A07259-89(LVG-MD51_0)/7A07259-89.seq', '/content/drive/My Drive/Colab Notebooks/7A07259/7A07259-12(LVG-MD17_50)/7A07259-12.seq', '/content/drive/My Drive/Colab Notebooks/7A07259/7A07259-72(LVG-MD49_15)/7A07259-72.seq', '/content/drive/My Drive/Colab Notebooks/7A07259/7A07259-3(LVG-MD16_132)/7A07259-3.seq', '/content/drive/My Drive/Colab Notebooks/7A07259/7A07259-34(LVG-MD42_14)/7A07259-34.seq', '/content/drive/My Drive/Colab Notebooks/7A07259/7A07259-35(LVG-MD42_6)/7A07259-35.seq', '/content/drive/My Drive/Colab Notebooks/7A07259/7A07259-92(LVG-MD51_53)/7A07259-92.seq', '/content/drive/My Drive/Colab Notebooks/7A07259/7A07259-86(LVG-MD50_24)/7A07259-86.seq', '/content/drive/My Drive/Colab Notebooks/7A07259/7A07259-38(LVG-MD42_24)/7A07259-38.seq', '/content/drive/My Drive/Colab Notebooks/7A07259/7A07259-30(LVG-MD42_61)/7A07259-30.seq', '/content/drive/My Drive/Colab Notebooks/7A07259/7A07259-7(LVG-MD16_293)/7A07259-7.seq', '/content/drive/My Drive/Colab Notebooks/7A07259/7A07259-60(LVG-MD48_33)/7A07259-60.seq']\n"
          ]
        }
      ]
    },
    {
      "cell_type": "code",
      "source": [
        "# prompt: Use previous list of file name,  open each file as text file and insert a first line at begin of the text which start with \">\" and the file name without file path in the same line.  Then save as a new file with extension \"fasta\" and close the file. The merge all the new files to one file name \"AllFasta.fasta\" and keep each files' line intact in the new file.\n",
        "\n",
        "import os\n",
        "from google.colab import drive\n",
        "\n",
        "drive.mount('/content/drive')\n",
        "\n",
        "file_list = []\n",
        "for root, dirs, files in os.walk('/content/drive/My Drive/Colab Notebooks/7A07259'):\n",
        "  for file in files:\n",
        "    if file.endswith('.seq'):\n",
        "      file_list.append(os.path.join(root, file))  # Store full file paths\n",
        "\n",
        "print(file_list)\n",
        "\n",
        "# with open('AllFasta.fasta', 'w') as outfile:\n",
        "#  for filepath in file_list:\n",
        "#    filename = os.path.basename(filepath)\n",
        "#    filename_without_extension = os.path.splitext(filename)[0]\n",
        "#    new_filename = filename_without_extension + '.fasta'\n",
        "#    with open(filepath, 'r') as infile, open(new_filename, 'w') as newfile:\n",
        "#      newfile.write('>' + filename_without_extension + '\\n')  # Insert first line\n",
        "#      for line in infile:\n",
        "#        newfile.write(line)\n",
        "\n",
        "    # Append the contents of the new file to AllFasta.fasta\n",
        "#    with open(new_filename, 'r') as newfile:\n",
        "#      outfile.write(newfile.read())\n"
      ],
      "metadata": {
        "colab": {
          "base_uri": "https://localhost:8080/"
        },
        "id": "SH9wLxw51v1W",
        "outputId": "5018e176-31c5-46e4-bd43-767e55a86e1b"
      },
      "execution_count": null,
      "outputs": [
        {
          "output_type": "stream",
          "name": "stdout",
          "text": [
            "Drive already mounted at /content/drive; to attempt to forcibly remount, call drive.mount(\"/content/drive\", force_remount=True).\n",
            "['/content/drive/My Drive/Colab Notebooks/7A07259/7A07259-52(LVG-MD48_46)/7A07259-52.seq', '/content/drive/My Drive/Colab Notebooks/7A07259/7A07259-21(LVG-MD35_41)/7A07259-21.seq', '/content/drive/My Drive/Colab Notebooks/7A07259/7A07259-32(LVG-MD42_4)/7A07259-32.seq', '/content/drive/My Drive/Colab Notebooks/7A07259/7A07259-73(LVG-MD49_4)/7A07259-73.seq', '/content/drive/My Drive/Colab Notebooks/7A07259/7A07259-44(LVG-MD42_17)/7A07259-44.seq', '/content/drive/My Drive/Colab Notebooks/7A07259/7A07259-36(LVG-MD42_68)/7A07259-36.seq', '/content/drive/My Drive/Colab Notebooks/7A07259/7A07259-42(LVG-MD42_20)/7A07259-42.seq', '/content/drive/My Drive/Colab Notebooks/7A07259/7A07259-17(LVG-MD34_76)/7A07259-17.seq', '/content/drive/My Drive/Colab Notebooks/7A07259/7A07259-27(LVG-MD39_260)/7A07259-27.seq', '/content/drive/My Drive/Colab Notebooks/7A07259/7A07259-26(LVG-MD39_58)/7A07259-26.seq', '/content/drive/My Drive/Colab Notebooks/7A07259/7A07259-66(LVG-MD48_55)/7A07259-66.seq', '/content/drive/My Drive/Colab Notebooks/7A07259/7A07259-81(LVG-MD50_36)/7A07259-81.seq', '/content/drive/My Drive/Colab Notebooks/7A07259/7A07259-98(LVG-MD52_127)/7A07259-98.seq', '/content/drive/My Drive/Colab Notebooks/7A07259/7A07259-54(LVG-MD48_4)/7A07259-54.seq', '/content/drive/My Drive/Colab Notebooks/7A07259/7A07259-84(LVG-MD50_6)/7A07259-84.seq', '/content/drive/My Drive/Colab Notebooks/7A07259/7A07259-5(LVG-MD16_48)/7A07259-5.seq', '/content/drive/My Drive/Colab Notebooks/7A07259/7A07259-33(LVG-MD42_8)/7A07259-33.seq', '/content/drive/My Drive/Colab Notebooks/7A07259/7A07259-95(LVG-MD51_20)/7A07259-95.seq', '/content/drive/My Drive/Colab Notebooks/7A07259/7A07259-39(LVG-MD42_1)/7A07259-39.seq', '/content/drive/My Drive/Colab Notebooks/7A07259/7A07259-41(LVG-MD42_18)/7A07259-41.seq', '/content/drive/My Drive/Colab Notebooks/7A07259/7A07259-71(LVG-MD49_2)/7A07259-71.seq', '/content/drive/My Drive/Colab Notebooks/7A07259/7A07259-40(LVG-MD42_2)/7A07259-40.seq', '/content/drive/My Drive/Colab Notebooks/7A07259/7A07259-22(LVG-MD35_22)/7A07259-22.seq', '/content/drive/My Drive/Colab Notebooks/7A07259/7A07259-13(LVG-MD17_4)/7A07259-13.seq', '/content/drive/My Drive/Colab Notebooks/7A07259/7A07259-18(LVG-MD34_37)/7A07259-18.seq', '/content/drive/My Drive/Colab Notebooks/7A07259/7A07259-76(LVG-MD49_13)/7A07259-76.seq', '/content/drive/My Drive/Colab Notebooks/7A07259/7A07259-37(LVG-MD42_0)/7A07259-37.seq', '/content/drive/My Drive/Colab Notebooks/7A07259/7A07259-90(LVG-MD51_7)/7A07259-90.seq', '/content/drive/My Drive/Colab Notebooks/7A07259/7A07259-68(LVG-MD48_31)/7A07259-68.seq', '/content/drive/My Drive/Colab Notebooks/7A07259/7A07259-9(LVG-MD17_24)/7A07259-9.seq', '/content/drive/My Drive/Colab Notebooks/7A07259/7A07259-49(LVG-MD48_6)/7A07259-49.seq', '/content/drive/My Drive/Colab Notebooks/7A07259/7A07259-97(LVG-MD51_16)/7A07259-97.seq', '/content/drive/My Drive/Colab Notebooks/7A07259/7A07259-2(LVG-MD16_31)/7A07259-2.seq', '/content/drive/My Drive/Colab Notebooks/7A07259/7A07259-64(LVG-MD48_42)/7A07259-64.seq', '/content/drive/My Drive/Colab Notebooks/7A07259/7A07259-48(LVG-MD46_23)/7A07259-48.seq', '/content/drive/My Drive/Colab Notebooks/7A07259/7A07259-74(LVG-MD49_8)/7A07259-74.seq', '/content/drive/My Drive/Colab Notebooks/7A07259/7A07259-63(LVG-MD48_24)/7A07259-63.seq', '/content/drive/My Drive/Colab Notebooks/7A07259/7A07259-24(LVG-MD37_309)/7A07259-24.seq', '/content/drive/My Drive/Colab Notebooks/7A07259/7A07259-88(LVG-MD50_1)/7A07259-88.seq', '/content/drive/My Drive/Colab Notebooks/7A07259/7A07259-67(LVG-MD48_52)/7A07259-67.seq', '/content/drive/My Drive/Colab Notebooks/7A07259/7A07259-96(LVG-MD51_1)/7A07259-96.seq', '/content/drive/My Drive/Colab Notebooks/7A07259/7A07259-93(LVG-MD51_22)/7A07259-93.seq', '/content/drive/My Drive/Colab Notebooks/7A07259/7A07259-15(LVG-MD28_56)/7A07259-15.seq', '/content/drive/My Drive/Colab Notebooks/7A07259/7A07259-16(LVG-MD28_46)/7A07259-16.seq', '/content/drive/My Drive/Colab Notebooks/7A07259/7A07259-56(LVG-MD48_75)/7A07259-56.seq', '/content/drive/My Drive/Colab Notebooks/7A07259/7A07259-31(LVG-MD42_13)/7A07259-31.seq', '/content/drive/My Drive/Colab Notebooks/7A07259/7A07259-20(LVG-MD35_39)/7A07259-20.seq', '/content/drive/My Drive/Colab Notebooks/7A07259/7A07259-100(LVG-MD52_78)/7A07259-100.seq', '/content/drive/My Drive/Colab Notebooks/7A07259/7A07259-80(LVG-MD50_16)/7A07259-80.seq', '/content/drive/My Drive/Colab Notebooks/7A07259/7A07259-14(LVG-MD17_28)/7A07259-14.seq', '/content/drive/My Drive/Colab Notebooks/7A07259/7A07259-65(LVG-MD48_185)/7A07259-65.seq', '/content/drive/My Drive/Colab Notebooks/7A07259/7A07259-23(LVG-MD35_20)/7A07259-23.seq', '/content/drive/My Drive/Colab Notebooks/7A07259/7A07259-4(LVG-MD16_68)/7A07259-4.seq', '/content/drive/My Drive/Colab Notebooks/7A07259/7A07259-79(LVG-MD50_15)/7A07259-79.seq', '/content/drive/My Drive/Colab Notebooks/7A07259/7A07259-70(LVG-MD49_25)/7A07259-70.seq', '/content/drive/My Drive/Colab Notebooks/7A07259/7A07259-45(LVG-MD45_11)/7A07259-45.seq', '/content/drive/My Drive/Colab Notebooks/7A07259/7A07259-62(LVG-MD48_201)/7A07259-62.seq', '/content/drive/My Drive/Colab Notebooks/7A07259/7A07259-91(LVG-MD51_31)/7A07259-91.seq', '/content/drive/My Drive/Colab Notebooks/7A07259/7A07259-10(LVG-MD17_170)/7A07259-10.seq', '/content/drive/My Drive/Colab Notebooks/7A07259/7A07259-61(LVG-MD48_0)/7A07259-61.seq', '/content/drive/My Drive/Colab Notebooks/7A07259/7A07259-43(LVG-MD42_11)/7A07259-43.seq', '/content/drive/My Drive/Colab Notebooks/7A07259/7A07259-25(LVG-MD37_83)/7A07259-25.seq', '/content/drive/My Drive/Colab Notebooks/7A07259/7A07259-29(LVG-MD39_4)/7A07259-29.seq', '/content/drive/My Drive/Colab Notebooks/7A07259/7A07259-47(LVG-MD45_3)/7A07259-47.seq', '/content/drive/My Drive/Colab Notebooks/7A07259/7A07259-94(LVG-MD51_4)/7A07259-94.seq', '/content/drive/My Drive/Colab Notebooks/7A07259/7A07259-87(LVG-MD50_3)/7A07259-87.seq', '/content/drive/My Drive/Colab Notebooks/7A07259/7A07259-82(LVG-MD50_87)/7A07259-82.seq', '/content/drive/My Drive/Colab Notebooks/7A07259/7A07259-11(LVG-MD17_110)/7A07259-11.seq', '/content/drive/My Drive/Colab Notebooks/7A07259/7A07259-69(LVG-MD48_34)/7A07259-69.seq', '/content/drive/My Drive/Colab Notebooks/7A07259/7A07259-83(LVG-MD50_10)/7A07259-83.seq', '/content/drive/My Drive/Colab Notebooks/7A07259/7A07259-6(LVG-MD16_204)/7A07259-6.seq', '/content/drive/My Drive/Colab Notebooks/7A07259/7A07259-75(LVG-MD49_1)/7A07259-75.seq', '/content/drive/My Drive/Colab Notebooks/7A07259/7A07259-57(LVG-MD48_38)/7A07259-57.seq', '/content/drive/My Drive/Colab Notebooks/7A07259/7A07259-55(LVG-MD48_15)/7A07259-55.seq', '/content/drive/My Drive/Colab Notebooks/7A07259/7A07259-51(LVG-MD48_69)/7A07259-51.seq', '/content/drive/My Drive/Colab Notebooks/7A07259/7A07259-8(LVG-MD16_44)/7A07259-8.seq', '/content/drive/My Drive/Colab Notebooks/7A07259/7A07259-58(LVG-MD48_77)/7A07259-58.seq', '/content/drive/My Drive/Colab Notebooks/7A07259/7A07259-19(LVG-MD34_14)/7A07259-19.seq', '/content/drive/My Drive/Colab Notebooks/7A07259/7A07259-28(LVG-MD39_55)/7A07259-28.seq', '/content/drive/My Drive/Colab Notebooks/7A07259/7A07259-77(LVG-MD50_14)/7A07259-77.seq', '/content/drive/My Drive/Colab Notebooks/7A07259/7A07259-1(LVG-MD16_27)/7A07259-1.seq', '/content/drive/My Drive/Colab Notebooks/7A07259/7A07259-50(LVG-MD48_63)/7A07259-50.seq', '/content/drive/My Drive/Colab Notebooks/7A07259/7A07259-59(LVG-MD48_11)/7A07259-59.seq', '/content/drive/My Drive/Colab Notebooks/7A07259/7A07259-46(LVG-MD45_2)/7A07259-46.seq', '/content/drive/My Drive/Colab Notebooks/7A07259/7A07259-99(LVG-MD52_62)/7A07259-99.seq', '/content/drive/My Drive/Colab Notebooks/7A07259/7A07259-78(LVG-MD50_8)/7A07259-78.seq', '/content/drive/My Drive/Colab Notebooks/7A07259/7A07259-53(LVG-MD48_337)/7A07259-53.seq', '/content/drive/My Drive/Colab Notebooks/7A07259/7A07259-85(LVG-MD50_12)/7A07259-85.seq', '/content/drive/My Drive/Colab Notebooks/7A07259/7A07259-89(LVG-MD51_0)/7A07259-89.seq', '/content/drive/My Drive/Colab Notebooks/7A07259/7A07259-12(LVG-MD17_50)/7A07259-12.seq', '/content/drive/My Drive/Colab Notebooks/7A07259/7A07259-72(LVG-MD49_15)/7A07259-72.seq', '/content/drive/My Drive/Colab Notebooks/7A07259/7A07259-3(LVG-MD16_132)/7A07259-3.seq', '/content/drive/My Drive/Colab Notebooks/7A07259/7A07259-34(LVG-MD42_14)/7A07259-34.seq', '/content/drive/My Drive/Colab Notebooks/7A07259/7A07259-35(LVG-MD42_6)/7A07259-35.seq', '/content/drive/My Drive/Colab Notebooks/7A07259/7A07259-92(LVG-MD51_53)/7A07259-92.seq', '/content/drive/My Drive/Colab Notebooks/7A07259/7A07259-86(LVG-MD50_24)/7A07259-86.seq', '/content/drive/My Drive/Colab Notebooks/7A07259/7A07259-38(LVG-MD42_24)/7A07259-38.seq', '/content/drive/My Drive/Colab Notebooks/7A07259/7A07259-30(LVG-MD42_61)/7A07259-30.seq', '/content/drive/My Drive/Colab Notebooks/7A07259/7A07259-7(LVG-MD16_293)/7A07259-7.seq', '/content/drive/My Drive/Colab Notebooks/7A07259/7A07259-60(LVG-MD48_33)/7A07259-60.seq']\n"
          ]
        }
      ]
    },
    {
      "cell_type": "code",
      "source": [
        "# prompt:  Use previous list of file name,  open each file as text file and insert a first line at begin of the text which start with \">\" and the file name without file path in the same line.  Then save as a new file with extension \"fasta\" and close the file. The combine all the new files to one file name \"AllFasta.fasta\" and each files' start from a new line in \"AllFasta.fasta\" file.\n",
        "\n",
        "with open('AllFasta.fasta', 'w') as outfile:\n",
        "  for filepath in file_list:\n",
        "    filename = os.path.basename(filepath)\n",
        "    filename_without_extension = os.path.splitext(filename)[0]\n",
        "    new_filename = filename_without_extension + '.fasta'\n",
        "    with open(filepath, 'r') as infile, open(new_filename, 'w') as newfile:\n",
        "      newfile.write('>' + filename_without_extension + '\\n')  # Insert first line\n",
        "      for line in infile:\n",
        "        newfile.write(line)\n",
        "\n",
        "    # Append the contents of the new file to AllFasta.fasta\n",
        "    with open(new_filename, 'r') as newfile:\n",
        "      outfile.write(newfile.read())\n",
        "      outfile.write('\\n')  # Add a newline to separate files in AllFasta.fasta\n"
      ],
      "metadata": {
        "id": "ryFnTu8u22wj"
      },
      "execution_count": 25,
      "outputs": []
    },
    {
      "cell_type": "code",
      "source": [
        "# prompt: find restriction Enzyme in a fasta file and print out the sequence's name\n",
        "\n",
        "import re\n",
        "\n",
        "def find_restriction_sites(fasta_file, enzyme_pattern):\n",
        "  \"\"\"\n",
        "  Finds restriction enzyme sites in a FASTA file.\n",
        "\n",
        "  Args:\n",
        "    fasta_file: Path to the FASTA file.\n",
        "    enzyme_pattern: Regular expression pattern for the restriction enzyme site.\n",
        "\n",
        "  Prints:\n",
        "    Names of sequences containing the restriction enzyme site.\n",
        "  \"\"\"\n",
        "\n",
        "  with open(fasta_file, 'r') as f:\n",
        "    current_sequence_name = None\n",
        "    sequence = ''\n",
        "    for line in f:\n",
        "      if line.startswith('>'):\n",
        "        if current_sequence_name and re.search(enzyme_pattern, sequence):\n",
        "          print(current_sequence_name)\n",
        "        current_sequence_name = line[1:].strip()\n",
        "        sequence = ''\n",
        "      else:\n",
        "        sequence += line.strip()\n",
        "\n",
        "    # Check the last sequence\n",
        "    if current_sequence_name and re.search(enzyme_pattern, sequence):\n",
        "      print(current_sequence_name)\n",
        "\n",
        "# Example usage:\n",
        "enzyme_pattern = 'GATATC'  # EcoRV restriction site\n",
        "find_restriction_sites('AllFasta.fasta', enzyme_pattern)\n"
      ],
      "metadata": {
        "colab": {
          "base_uri": "https://localhost:8080/"
        },
        "id": "MdVu-B4w3t-D",
        "outputId": "f23fefa3-444a-422a-817d-d4712cf4c319"
      },
      "execution_count": 26,
      "outputs": [
        {
          "output_type": "stream",
          "name": "stdout",
          "text": [
            "7A07259-32\n",
            "7A07259-36\n",
            "7A07259-26\n",
            "7A07259-95\n",
            "7A07259-39\n",
            "7A07259-13\n",
            "7A07259-18\n",
            "7A07259-90\n",
            "7A07259-9\n",
            "7A07259-24\n",
            "7A07259-80\n",
            "7A07259-79\n",
            "7A07259-70\n",
            "7A07259-91\n",
            "7A07259-10\n",
            "7A07259-29\n",
            "7A07259-94\n",
            "7A07259-11\n",
            "7A07259-58\n",
            "7A07259-78\n",
            "7A07259-3\n",
            "7A07259-38\n"
          ]
        }
      ]
    },
    {
      "cell_type": "code",
      "source": [
        "# prompt: find restriction Enzyme in a fasta file and print out the sequence name use bio python\n",
        "\n",
        "!pip install biopython\n",
        "\n",
        "from Bio import SeqIO\n",
        "import re\n",
        "\n",
        "def find_restriction_sites_biopython(fasta_file, enzyme_pattern):\n",
        "  \"\"\"\n",
        "  Finds restriction enzyme sites in a FASTA file using Biopython.\n",
        "\n",
        "  Args:\n",
        "    fasta_file: Path to the FASTA file.\n",
        "    enzyme_pattern: Regular expression pattern for the restriction enzyme site.\n",
        "\n",
        "  Prints:\n",
        "    Names of sequences containing the restriction enzyme site.\n",
        "  \"\"\"\n",
        "\n",
        "  for record in SeqIO.parse(fasta_file, \"fasta\"):\n",
        "    if re.search(enzyme_pattern, str(record.seq)):\n",
        "      print(record.id)\n",
        "\n",
        "# Example usage:\n",
        "enzyme_pattern = 'GATATC'  # EcoRV restriction site\n",
        "find_restriction_sites_biopython('AllFasta.fasta', enzyme_pattern)\n"
      ],
      "metadata": {
        "colab": {
          "base_uri": "https://localhost:8080/"
        },
        "id": "BfhLde3ZsTXb",
        "outputId": "366b5eab-685d-4c86-eac4-529750e3e55a"
      },
      "execution_count": 27,
      "outputs": [
        {
          "output_type": "stream",
          "name": "stdout",
          "text": [
            "Collecting biopython\n",
            "  Downloading biopython-1.84-cp310-cp310-manylinux_2_17_x86_64.manylinux2014_x86_64.whl.metadata (12 kB)\n",
            "Requirement already satisfied: numpy in /usr/local/lib/python3.10/dist-packages (from biopython) (1.26.4)\n",
            "Downloading biopython-1.84-cp310-cp310-manylinux_2_17_x86_64.manylinux2014_x86_64.whl (3.2 MB)\n",
            "\u001b[2K   \u001b[90m━━━━━━━━━━━━━━━━━━━━━━━━━━━━━━━━━━━━━━━━\u001b[0m \u001b[32m3.2/3.2 MB\u001b[0m \u001b[31m26.7 MB/s\u001b[0m eta \u001b[36m0:00:00\u001b[0m\n",
            "\u001b[?25hInstalling collected packages: biopython\n",
            "Successfully installed biopython-1.84\n",
            "7A07259-32\n",
            "7A07259-36\n",
            "7A07259-26\n",
            "7A07259-95\n",
            "7A07259-39\n",
            "7A07259-13\n",
            "7A07259-18\n",
            "7A07259-90\n",
            "7A07259-9\n",
            "7A07259-24\n",
            "7A07259-80\n",
            "7A07259-79\n",
            "7A07259-70\n",
            "7A07259-91\n",
            "7A07259-10\n",
            "7A07259-29\n",
            "7A07259-94\n",
            "7A07259-11\n",
            "7A07259-58\n",
            "7A07259-78\n",
            "7A07259-3\n",
            "7A07259-38\n"
          ]
        }
      ]
    }
  ]
}